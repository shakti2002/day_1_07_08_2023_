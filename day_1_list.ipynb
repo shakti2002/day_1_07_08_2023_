{
 "cells": [
  {
   "cell_type": "markdown",
   "id": "95be5d47",
   "metadata": {
    "scrolled": true
   },
   "source": [
    "# List, Tuple, dictonary"
   ]
  },
  {
   "cell_type": "code",
   "execution_count": 29,
   "id": "9fb1056b",
   "metadata": {},
   "outputs": [
    {
     "name": "stdout",
     "output_type": "stream",
     "text": [
      "['data', 10, 5.26, 'science']\n",
      "<class 'list'>\n"
     ]
    }
   ],
   "source": [
    "list_1=['data', 10, 5.26,'science']\n",
    "print(list_1)\n",
    "print(type(list_1))\n",
    "\n"
   ]
  },
  {
   "cell_type": "code",
   "execution_count": 19,
   "id": "f0231805",
   "metadata": {},
   "outputs": [
    {
     "name": "stdout",
     "output_type": "stream",
     "text": [
      "[[1, 2, 3, 4], [2, 3, 4, 5], [6, 7, 8, 9]]\n"
     ]
    }
   ],
   "source": [
    "matrix=[[1,2,3,4],[2,3,4,5,],[6,7,8,9]]\n",
    "print(matrix)"
   ]
  },
  {
   "cell_type": "code",
   "execution_count": 20,
   "id": "0f4dde35",
   "metadata": {},
   "outputs": [
    {
     "name": "stdout",
     "output_type": "stream",
     "text": [
      "[1, 27, 125, 343, 729]\n"
     ]
    }
   ],
   "source": [
    "cube=[i**3 for i in range(1, 10, 2)]\n",
    "print(cube)"
   ]
  },
  {
   "cell_type": "code",
   "execution_count": null,
   "id": "a1a7e890",
   "metadata": {},
   "outputs": [],
   "source": []
  },
  {
   "cell_type": "code",
   "execution_count": 24,
   "id": "20e163f6",
   "metadata": {},
   "outputs": [
    {
     "name": "stdout",
     "output_type": "stream",
     "text": [
      "[[1, 2, 3, 4], [2, 3, 4, 5], [6, 7, 8, 9]]\n",
      "\n",
      "\n",
      " 1 4 9\n",
      "[[1, 2, 3, 4], [2, 3, 4, 5], [6, 7, 8, 9]]\n",
      "\n",
      "\n",
      " 1 4 9\n",
      "[[1, 2, 3, 4], [2, 3, 4, 5], [6, 7, 8, 9]]\n",
      "\n",
      "\n",
      " 1 4 9\n"
     ]
    }
   ],
   "source": [
    "for row in matrix:\n",
    "    print(matrix)\n",
    "    print('\\n\\n',matrix[0][0], matrix[1][2], matrix[2][3])"
   ]
  },
  {
   "cell_type": "code",
   "execution_count": 27,
   "id": "55da2693",
   "metadata": {},
   "outputs": [
    {
     "name": "stdout",
     "output_type": "stream",
     "text": [
      "('data', 123, 314, 'science')\n",
      "<class 'tuple'>\n",
      "123\n"
     ]
    }
   ],
   "source": [
    "#creating tuple\n",
    "tup=('data', 123, 314, 'science')\n",
    "print(tup)\n",
    "print(type(tup))\n",
    "print(tup[1])"
   ]
  },
  {
   "cell_type": "code",
   "execution_count": null,
   "id": "8fb600bb",
   "metadata": {},
   "outputs": [],
   "source": [
    "#Creating Dictonary"
   ]
  },
  {
   "cell_type": "code",
   "execution_count": 7,
   "id": "a058d2af",
   "metadata": {},
   "outputs": [
    {
     "name": "stdout",
     "output_type": "stream",
     "text": [
      "{'ABC': [9877, 5467], 'PQR': 764}\n"
     ]
    }
   ],
   "source": [
    "phone_no={'ABC':[9877, 5467], 'PQR':764}\n",
    "print(phone_no)"
   ]
  },
  {
   "cell_type": "code",
   "execution_count": 8,
   "id": "5d03d7aa",
   "metadata": {},
   "outputs": [
    {
     "name": "stdout",
     "output_type": "stream",
     "text": [
      "<class 'dict'>\n"
     ]
    }
   ],
   "source": [
    "print(type(phone_no))"
   ]
  },
  {
   "cell_type": "code",
   "execution_count": 10,
   "id": "39208987",
   "metadata": {},
   "outputs": [
    {
     "data": {
      "text/plain": [
       "764"
      ]
     },
     "execution_count": 10,
     "metadata": {},
     "output_type": "execute_result"
    }
   ],
   "source": [
    "phone_no['PQR']"
   ]
  }
 ],
 "metadata": {
  "kernelspec": {
   "display_name": "Python 3 (ipykernel)",
   "language": "python",
   "name": "python3"
  },
  "language_info": {
   "codemirror_mode": {
    "name": "ipython",
    "version": 3
   },
   "file_extension": ".py",
   "mimetype": "text/x-python",
   "name": "python",
   "nbconvert_exporter": "python",
   "pygments_lexer": "ipython3",
   "version": "3.9.13"
  }
 },
 "nbformat": 4,
 "nbformat_minor": 5
}
